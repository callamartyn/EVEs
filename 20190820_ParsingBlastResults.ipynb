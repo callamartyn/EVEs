{
 "cells": [
  {
   "cell_type": "markdown",
   "metadata": {},
   "source": [
    "adapted from https://github.com/AnneliektH/EVEs_arthropod/blob/master/parse_xml.py"
   ]
  },
  {
   "cell_type": "code",
   "execution_count": 1,
   "metadata": {},
   "outputs": [],
   "source": [
    "from __future__ import division\n",
    "from Bio.Blast import NCBIXML\n",
    "import csv\n",
    "import sys\n",
    "import pandas as pd"
   ]
  },
  {
   "cell_type": "code",
   "execution_count": 15,
   "metadata": {},
   "outputs": [],
   "source": [
    "result = NCBIXML.parse(open('/Users/callamartyn/chou_lab/EVE/out/test.out'))\n",
    "output = '/Users/callamartyn/chou_lab/EVE/out/test.csv'"
   ]
  },
  {
   "cell_type": "code",
   "execution_count": 7,
   "metadata": {},
   "outputs": [],
   "source": [
    "# Write a header for the outputfile\n",
    "header = ('sequence', 'length', 'perc_identity', 'gaps', 'frame', 'position_on_hit_start',\n",
    "          'position_on_hit_stop', 'position_on_query_start', 'position_on_query_stop', 'evalue', 'score',  'direction')"
   ]
  },
  {
   "cell_type": "code",
   "execution_count": 17,
   "metadata": {},
   "outputs": [],
   "source": [
    "# open the outputfile\n",
    "with open(output,'w') as f:\n",
    "  writer = csv.writer(f)\n",
    "  writer.writerow(header)\n",
    "\n",
    "  # Go into fasta records\n",
    "  for record in result:\n",
    "\n",
    "    # Go into fasta alignments\n",
    "    if record.alignments:\n",
    "\n",
    "      # Check each alignment\n",
    "      for alignment in record.alignments:\n",
    "\n",
    "          # Make recognizable names for all xml input objects.\n",
    "          for hsp in alignment.hsps:\n",
    "            sequence = alignment.title\n",
    "            length = hsp.align_length\n",
    "            perc_identity = float((hsp.identities/hsp.align_length)*100)\n",
    "            gaps = hsp.gaps\n",
    "            query_frame = hsp.frame\n",
    "            direction = record.query\n",
    "\n",
    "            # Hit is viral hit from viral database\n",
    "            position_on_hit_start = hsp.sbjct_start\n",
    "            position_on_hit_stop = hsp.sbjct_end\n",
    "\n",
    "            # Query is piRNA cluster of insect\n",
    "            position_on_query_start = hsp.query_start\n",
    "            position_on_query_stop = hsp.query_end\n",
    "            evalue = hsp.expect\n",
    "            score = hsp.score\n",
    "\n",
    "            # Write to csv\n",
    "            row = (sequence, length, perc_identity, gaps, query_frame[0],\n",
    "            position_on_hit_start, position_on_hit_stop ,position_on_query_start,\n",
    "            position_on_query_stop, evalue, score, direction)\n",
    "            writer.writerow(row)\n",
    "\n",
    "  # close the file\n",
    "  f.close()\n",
    "  result.close()\n"
   ]
  },
  {
   "cell_type": "code",
   "execution_count": 19,
   "metadata": {},
   "outputs": [
    {
     "name": "stderr",
     "output_type": "stream",
     "text": [
      "/usr/local/lib/python3.7/site-packages/ipykernel_launcher.py:1: FutureWarning: from_csv is deprecated. Please use read_csv(...) instead. Note that some of the default arguments are different, so please refer to the documentation for from_csv when changing your function calls\n",
      "  \"\"\"Entry point for launching an IPython kernel.\n"
     ]
    }
   ],
   "source": [
    "df = pd.DataFrame.from_csv(open('/Users/callamartyn/chou_lab/EVE/out/test.csv')).reset_index()"
   ]
  },
  {
   "cell_type": "code",
   "execution_count": 20,
   "metadata": {},
   "outputs": [],
   "source": [
    "# max eval on position_on_query_start is equal\n",
    "max_eval = df.groupby(['sequence', 'position_on_query_start']).evalue.transform(max)\n",
    "df4 = df[df.evalue == max_eval]\n",
    "\n",
    "# max eval on position_on_query_stop is equal\n",
    "max_eval = df.groupby(['sequence', 'position_on_query_stop']).evalue.transform(max)\n",
    "df5 = df[df.evalue == max_eval]\n",
    "\n",
    "# merge both max tables\n",
    "df = df4.append(df5)\n",
    "\n",
    "# and remove where start sequence is equal\n",
    "df = df.drop_duplicates(['sequence', 'position_on_query_start'])\n",
    "\n",
    "# remove where stop sequence is equal\n",
    "df = df.drop_duplicates(['sequence', 'position_on_query_stop'])\n",
    "\n",
    "#remove where stop and start are equal\n",
    "df = df.drop_duplicates([ 'sequence', 'position_on_query_start', 'position_on_query_stop'])\n",
    "\n",
    "# output to csv\n",
    "df.to_csv('/Users/callamartyn/chou_lab/EVE/out/test.csv')\n",
    "\n",
    "result.close()"
   ]
  },
  {
   "cell_type": "code",
   "execution_count": null,
   "metadata": {},
   "outputs": [],
   "source": []
  }
 ],
 "metadata": {
  "kernelspec": {
   "display_name": "Python 3",
   "language": "python",
   "name": "python3"
  },
  "language_info": {
   "codemirror_mode": {
    "name": "ipython",
    "version": 3
   },
   "file_extension": ".py",
   "mimetype": "text/x-python",
   "name": "python",
   "nbconvert_exporter": "python",
   "pygments_lexer": "ipython3",
   "version": "3.7.0"
  }
 },
 "nbformat": 4,
 "nbformat_minor": 2
}
