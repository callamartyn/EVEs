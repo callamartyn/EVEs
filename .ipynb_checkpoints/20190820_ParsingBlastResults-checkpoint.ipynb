{
 "cells": [
  {
   "cell_type": "markdown",
   "metadata": {},
   "source": [
    "adapted from https://github.com/AnneliektH/EVEs_arthropod/blob/master/parse_xml.py"
   ]
  },
  {
   "cell_type": "code",
   "execution_count": 1,
   "metadata": {},
   "outputs": [],
   "source": [
    "#from __future__ import division\n",
    "from Bio.Blast import NCBIXML\n",
    "import csv\n",
    "import sys\n",
    "import pandas as pd"
   ]
  },
  {
   "cell_type": "code",
   "execution_count": 2,
   "metadata": {},
   "outputs": [],
   "source": [
    "result = NCBIXML.parse(open('/Users/callamartyn/chou_lab/EVE/out/Iscap_blastx_vprot_1e-03.out'))\n",
    "output = '/Users/callamartyn/chou_lab/EVE/out/Iscap.csv'"
   ]
  },
  {
   "cell_type": "code",
   "execution_count": 3,
   "metadata": {},
   "outputs": [],
   "source": [
    "# Write a header for the outputfile\n",
    "header = ('sequence', 'length', 'perc_identity', 'gaps', 'frame', 'position_on_hit_start',\n",
    "          'position_on_hit_stop', 'position_on_query_start', 'position_on_query_stop', 'evalue', 'score',  'direction')"
   ]
  },
  {
   "cell_type": "code",
   "execution_count": 4,
   "metadata": {},
   "outputs": [
    {
     "ename": "ExpatError",
     "evalue": "no element found: line 65921, column 49",
     "output_type": "error",
     "traceback": [
      "\u001b[0;31m---------------------------------------------------------------------------\u001b[0m",
      "\u001b[0;31mExpatError\u001b[0m                                Traceback (most recent call last)",
      "\u001b[0;32m<ipython-input-4-fbbf867032ed>\u001b[0m in \u001b[0;36m<module>\u001b[0;34m()\u001b[0m\n\u001b[1;32m      5\u001b[0m \u001b[0;34m\u001b[0m\u001b[0m\n\u001b[1;32m      6\u001b[0m   \u001b[0;31m# Go into fasta records\u001b[0m\u001b[0;34m\u001b[0m\u001b[0;34m\u001b[0m\u001b[0m\n\u001b[0;32m----> 7\u001b[0;31m   \u001b[0;32mfor\u001b[0m \u001b[0mrecord\u001b[0m \u001b[0;32min\u001b[0m \u001b[0mresult\u001b[0m\u001b[0;34m:\u001b[0m\u001b[0;34m\u001b[0m\u001b[0m\n\u001b[0m\u001b[1;32m      8\u001b[0m \u001b[0;34m\u001b[0m\u001b[0m\n\u001b[1;32m      9\u001b[0m     \u001b[0;31m# Go into fasta alignments\u001b[0m\u001b[0;34m\u001b[0m\u001b[0;34m\u001b[0m\u001b[0m\n",
      "\u001b[0;32m/usr/local/lib/python3.7/site-packages/Bio/Blast/NCBIXML.py\u001b[0m in \u001b[0;36mparse\u001b[0;34m(handle, debug)\u001b[0m\n\u001b[1;32m    620\u001b[0m             \u001b[0;32mif\u001b[0m \u001b[0;32mnot\u001b[0m \u001b[0mtext\u001b[0m\u001b[0;34m:\u001b[0m\u001b[0;34m\u001b[0m\u001b[0m\n\u001b[1;32m    621\u001b[0m                 \u001b[0;31m# End of the file!\u001b[0m\u001b[0;34m\u001b[0m\u001b[0;34m\u001b[0m\u001b[0m\n\u001b[0;32m--> 622\u001b[0;31m                 \u001b[0mexpat_parser\u001b[0m\u001b[0;34m.\u001b[0m\u001b[0mParse\u001b[0m\u001b[0;34m(\u001b[0m\u001b[0mNULL\u001b[0m\u001b[0;34m,\u001b[0m \u001b[0;32mTrue\u001b[0m\u001b[0;34m)\u001b[0m  \u001b[0;31m# End of XML record\u001b[0m\u001b[0;34m\u001b[0m\u001b[0m\n\u001b[0m\u001b[1;32m    623\u001b[0m                 \u001b[0;32mbreak\u001b[0m\u001b[0;34m\u001b[0m\u001b[0m\n\u001b[1;32m    624\u001b[0m \u001b[0;34m\u001b[0m\u001b[0m\n",
      "\u001b[0;31mExpatError\u001b[0m: no element found: line 65921, column 49"
     ]
    }
   ],
   "source": [
    "# open the outputfile\n",
    "with open(output,'w') as f:\n",
    "  writer = csv.writer(f)\n",
    "  writer.writerow(header)\n",
    "\n",
    "  # Go into fasta records\n",
    "  for record in result:\n",
    "\n",
    "    # Go into fasta alignments\n",
    "    if record.alignments:\n",
    "\n",
    "      # Check each alignment\n",
    "      for alignment in record.alignments:\n",
    "\n",
    "          # Make recognizable names for all xml input objects.\n",
    "          for hsp in alignment.hsps:\n",
    "            sequence = alignment.title\n",
    "            length = hsp.align_length\n",
    "            perc_identity = float((hsp.identities/hsp.align_length)*100)\n",
    "            gaps = hsp.gaps\n",
    "            query_frame = hsp.frame\n",
    "            direction = record.query\n",
    "\n",
    "            # Hit is viral hit from viral database\n",
    "            position_on_hit_start = hsp.sbjct_start\n",
    "            position_on_hit_stop = hsp.sbjct_end\n",
    "\n",
    "            # Query is piRNA cluster of insect\n",
    "            position_on_query_start = hsp.query_start\n",
    "            position_on_query_stop = hsp.query_end\n",
    "            evalue = hsp.expect\n",
    "            score = hsp.score\n",
    "\n",
    "            # Write to csv\n",
    "            row = (sequence, length, perc_identity, gaps, query_frame[0],\n",
    "            position_on_hit_start, position_on_hit_stop ,position_on_query_start,\n",
    "            position_on_query_stop, evalue, score, direction)\n",
    "            writer.writerow(row)\n",
    "\n",
    "  # close the file\n",
    "  f.close()\n",
    "  result.close()\n"
   ]
  },
  {
   "cell_type": "code",
   "execution_count": 5,
   "metadata": {},
   "outputs": [
    {
     "ename": "TypeError",
     "evalue": "object of type 'generator' has no len()",
     "output_type": "error",
     "traceback": [
      "\u001b[0;31m---------------------------------------------------------------------------\u001b[0m",
      "\u001b[0;31mTypeError\u001b[0m                                 Traceback (most recent call last)",
      "\u001b[0;32m<ipython-input-5-69290ace8698>\u001b[0m in \u001b[0;36m<module>\u001b[0;34m()\u001b[0m\n\u001b[0;32m----> 1\u001b[0;31m \u001b[0mlen\u001b[0m\u001b[0;34m(\u001b[0m\u001b[0mresult\u001b[0m\u001b[0;34m)\u001b[0m\u001b[0;34m\u001b[0m\u001b[0m\n\u001b[0m",
      "\u001b[0;31mTypeError\u001b[0m: object of type 'generator' has no len()"
     ]
    }
   ],
   "source": [
    "len(result)"
   ]
  },
  {
   "cell_type": "code",
   "execution_count": null,
   "metadata": {},
   "outputs": [],
   "source": [
    "df = pd.read_csv('/Users/callamartyn/chou_lab/EVE/test.csv')"
   ]
  },
  {
   "cell_type": "code",
   "execution_count": null,
   "metadata": {},
   "outputs": [],
   "source": [
    "# max eval on position_on_query_start is equal\n",
    "max_eval = df.groupby(['sequence', 'position_on_query_start']).evalue.transform(max)\n",
    "df4 = df[df.evalue == max_eval]\n",
    "\n",
    "# max eval on position_on_query_stop is equal\n",
    "max_eval = df.groupby(['sequence', 'position_on_query_stop']).evalue.transform(max)\n",
    "df5 = df[df.evalue == max_eval]\n",
    "\n",
    "# merge both max tables\n",
    "df = df4.append(df5)\n",
    "\n",
    "# and remove where start sequence is equal\n",
    "df = df.drop_duplicates(['sequence', 'position_on_query_start'])\n",
    "\n",
    "# remove where stop sequence is equal\n",
    "df = df.drop_duplicates(['sequence', 'position_on_query_stop'])\n",
    "\n",
    "#remove where stop and start are equal\n",
    "df = df.drop_duplicates([ 'sequence', 'position_on_query_start', 'position_on_query_stop'])\n",
    "\n",
    "# output to csv\n",
    "df.to_csv(output.rstrip('.csv')+'_filtered.csv', index=False)\n",
    "\n",
    "result.close()"
   ]
  },
  {
   "cell_type": "markdown",
   "metadata": {},
   "source": [
    "Trying to replace first part of BLAST_filter.sh (making a bed file)"
   ]
  },
  {
   "cell_type": "code",
   "execution_count": null,
   "metadata": {},
   "outputs": [],
   "source": [
    "# read in filtered file\n",
    "df = pd.read_csv('/Users/callamartyn/chou_lab/EVE/test_filtered.csv')"
   ]
  },
  {
   "cell_type": "code",
   "execution_count": null,
   "metadata": {},
   "outputs": [],
   "source": [
    "# get query start and end positions from full table\n",
    "bed = df.iloc[:,7:9]\n",
    "# get accession number from \"direction\" column and insert into first position\n",
    "bed.insert(0,'accession', [x.split(' ')[0] for x in df.direction])"
   ]
  },
  {
   "cell_type": "code",
   "execution_count": null,
   "metadata": {},
   "outputs": [],
   "source": [
    "#write out to a tsv with bed file suffix\n",
    "bed.to_csv('/Users/callamartyn/chou_lab/EVE/out/bed_files/test.bed', sep='\\t', header=False, index=False)"
   ]
  },
  {
   "cell_type": "markdown",
   "metadata": {},
   "source": [
    "Figuring out how to filter duplicates"
   ]
  },
  {
   "cell_type": "code",
   "execution_count": null,
   "metadata": {},
   "outputs": [],
   "source": [
    "df = pd.read_csv('/Users/callamartyn/chou_lab/EVE/test_filtered.csv')\n",
    "df"
   ]
  },
  {
   "cell_type": "code",
   "execution_count": null,
   "metadata": {},
   "outputs": [],
   "source": [
    "df.sort_values('evalue', inplace=True)\n",
    "df.drop_duplicates([\"direction\", \"position_on_query_start\"], inplace=True, keep=\"first\")\n",
    "df.drop_duplicates([\"direction\", \"position_on_query_stop\"], inplace=True, keep=\"first\")\n",
    "df.reset_index(inplace=True, drop=True)\n",
    "df"
   ]
  },
  {
   "cell_type": "markdown",
   "metadata": {},
   "source": [
    "Filtering overlapping hits"
   ]
  },
  {
   "cell_type": "code",
   "execution_count": null,
   "metadata": {},
   "outputs": [],
   "source": [
    "df_grouped=df.groupby('direction')"
   ]
  },
  {
   "cell_type": "code",
   "execution_count": null,
   "metadata": {},
   "outputs": [],
   "source": [
    "# list to store index that are either unique enough or have highest evalue\n",
    "results = []\n",
    "# list to save those that have already been added so they can be skiped\n",
    "to_be_skipped = []"
   ]
  },
  {
   "cell_type": "code",
   "execution_count": null,
   "metadata": {},
   "outputs": [],
   "source": [
    "for group_name, df_group in df_grouped:\n",
    "    \n",
    "    for index, row in df_group.iterrows():\n",
    "\n",
    "        # check if sequence or simmilar sequence already added\n",
    "        if index in to_be_skipped:\n",
    "            continue\n",
    "\n",
    "        # initialize empty simmilar dict\n",
    "        similar = {}\n",
    "\n",
    "        for index2, row2 in df_group.iterrows():\n",
    "\n",
    "            # check if possition start or stop is equal and is not self.\n",
    "            if index == index2:\n",
    "                continue\n",
    "\n",
    "            # check if possition start or stop is equal and is not self.\n",
    "                # if entry is comparing to itself\n",
    "            if row[7] == row2[7] and row2[8] == row[8]:\n",
    "                continue\n",
    "\n",
    "            elif (row[7] in range(row2[7], row2[8]) or\n",
    "            row2[7] in range(row[7], row[8]) or\n",
    "            row[8] in range(row2[7], row2[8]) or\n",
    "            row2[8] in range(row[7], row[8])):\n",
    "                # add both indexes of simmilar sequences plus their score to the dict\n",
    "                similar[index] = row[10]\n",
    "                similar[index2] = row2[10]\n",
    "\n",
    "        # check if simmilar sequences have been found\n",
    "        if len(similar) > 0:\n",
    "\n",
    "            # get the max score from the simmilar sequences\n",
    "            max_index = max(similar, key=similar.get)\n",
    "\n",
    "            # add index with maximum score to results list\n",
    "            results.append(max_index)\n",
    "\n",
    "            # add checked indices to be skipped list\n",
    "            for k,v  in similar.items():\n",
    "                to_be_skipped.append(k)\n",
    "\n",
    "        # if seqeunce is unique add index to results\n",
    "        if len(similar) == 0:\n",
    "            results.append(index)\n",
    "            to_be_skipped.append(index)\n"
   ]
  },
  {
   "cell_type": "code",
   "execution_count": null,
   "metadata": {},
   "outputs": [],
   "source": [
    "df.sort_values('direction', inplace=True)\n",
    "df"
   ]
  },
  {
   "cell_type": "code",
   "execution_count": null,
   "metadata": {},
   "outputs": [],
   "source": [
    "df_unique = df.loc[results]\n",
    "df_unique.to_csv('/Users/callamartyn/chou_lab/EVE/out/test_unique.csv')"
   ]
  }
 ],
 "metadata": {
  "kernelspec": {
   "display_name": "Python 3",
   "language": "python",
   "name": "python3"
  },
  "language_info": {
   "codemirror_mode": {
    "name": "ipython",
    "version": 3
   },
   "file_extension": ".py",
   "mimetype": "text/x-python",
   "name": "python",
   "nbconvert_exporter": "python",
   "pygments_lexer": "ipython3",
   "version": "3.6.7"
  }
 },
 "nbformat": 4,
 "nbformat_minor": 2
}
